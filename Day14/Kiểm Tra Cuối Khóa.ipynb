{
 "cells": [
  {
   "cell_type": "markdown",
   "metadata": {},
   "source": [
    "## <center>Computer Science Intensive Course - MindX</center>\n",
    "![](./assets-final-test/logo.png)\n",
    "# <center>KIỂM TRA CUỐI KHÓA</center>"
   ]
  },
  {
   "cell_type": "markdown",
   "metadata": {},
   "source": [
    "## Bài 1. Sherlock và Mảng\n",
    "\n",
    "Watson cho Sherlock một mảng các số nguyên với thử thách: Tìm một phần tử trong mảng sao cho tổng các giá trị bên trái phần tử này bằng tổng các giá trị bên phải.  \n",
    "\n",
    "**Ví dụ**:\n",
    "- Cho mảng *arr = [5, 6, 8, 11]*. Ta tìm được phần tử *8* thỏa điều kiện: *5 + 6 = 11*.\n",
    "- Cho mảng *arr = [1]*. Phần tử *1* thỏa điều kiện vì tổng các phần tử bên trái và bên phải được coi như bằng 0.\n",
    "\n",
    "**Yêu cầu**: Cho một mảng các số nguyên, hãy kiểm tra mảng có tồn tại phần tử thỏa mãn điều kiện trên hay không.  \n",
    "\n",
    "**Input**: Một mảng chứa *1 ≤ n ≤ 10<sup>5</sup>* số nguyên. Mỗi phần tử có giá trị trong đoạn _[1, 2.10<sup>4</sup>]_.  \n",
    "**Output**: Trả về một string là *'YES'* hoặc *'NO'* tương ứng với kết quả tìm được.  \n",
    "**Ví dụ**:  \n",
    "- Input: <code>[5, 6, 8, 11]</code>\n",
    "- Output: <code>'YES'</code>"
   ]
  },
  {
   "cell_type": "code",
   "execution_count": 13,
   "metadata": {},
   "outputs": [],
   "source": [
    "def balancedSums(arr):\n",
    "    \n",
    "    # YOUR CODE HERE\n",
    "\n",
    "    return result  # 'YES' or 'NO'"
   ]
  },
  {
   "cell_type": "markdown",
   "metadata": {},
   "source": [
    "## Bài 2. Tổng Lớn Bé\n",
    "\n",
    "Cho 5 số nguyên dương, hãy tìm tổng nhỏ nhất và lớn nhất có thể tính được từ 4 trong 5 số đã cho.  \n",
    "\n",
    "**Ví dụ**: Cho năm số *1, 3, 5, 7, 9*. Tổng nhỏ nhất thu được là *1 + 3 + 5 + 7 = 16* và lớn nhất là *3 + 5 + 7 + 9 = 24*.  \n",
    "\n",
    "**Input**: Một list chứa đúng 5 số nguyên dương, mỗi phần tử có giá trị trong đoạn _[1, 10<sup>9</sup>]_.  \n",
    "**Output**: In ra tổng nhỏ nhất và tổng lớn nhất, cách nhau bởi một khoảng trắng.  "
   ]
  },
  {
   "cell_type": "code",
   "execution_count": 1,
   "metadata": {},
   "outputs": [],
   "source": [
    "def miniMaxSum(arr):\n",
    "    \n",
    "    # YOUR CODE HERE\n",
    "    \n",
    "    print('{} {}'.format(min_sum, max_sum))"
   ]
  },
  {
   "cell_type": "markdown",
   "metadata": {},
   "source": [
    "## Bài 3. Xếp Bóng\n",
    "\n",
    "David có một số thùng, mỗi thùng chứa một số quả bóng. Số lượng thùng bằng đúng số loại bóng. David muốn sắp xếp bóng trong các thùng sao cho:\n",
    "- Mỗi thùng chỉ chứa duy nhất một loại bóng.\n",
    "- Không có hai quả bóng nào cùng loại nhưng nằm ở hai thùng khác nhau.\n",
    "\n",
    "Biết ở mỗi bước xếp, David tráo đổi vị trí của hai quả bóng bất kì với nhau.\n",
    "\n",
    "**Ví dụ**: David có *n = 2* thùng và 2 loại bóng, cả hai đều được đánh số từ *0* đến *n-1 = 1*.  \n",
    "Thông tin được lưu trong mảng hai chiều <code>containers = [[1, 4], [2, 3]]</code> với ý nghĩa:\n",
    "- Thùng 0 chứa 1 quả bóng loại 0 và 4 quả bóng loại 1.\n",
    "- Thùng 1 chứa 2 quả bóng loại 0 và 3 quả bóng loại 1.\n",
    "![](./assets-final-test/balls.png)\n",
    "\n",
    "Trong một bước xếp, David có thể tráo đổi vị trí của hai quả bóng với nhau:\n",
    "![](./assets-final-test/balls2.png)\n",
    "\n",
    "Trong ví dụ này, không có cách nào để tất cả bóng xanh và bóng đỏ nằm ở hai thùng riêng biệt.\n",
    "\n",
    "**Yêu cầu**: Cho thông tin về các thùng và bóng, hãy xác định có thể xếp bóng để thỏa mãn điều kiện của David hay không.  \n",
    "\n",
    "**Input**: Một mảng hai chiều dưới dạng list của list chứa thông tin về các thùng và bóng. Mảng có *số dòng = số cột = n* và *1 ≤ n ≤ 100*. Mỗi phần tử của mảng nằm trong đoạn _[0, 10<sup>9</sup>]_.  \n",
    "**Output**: Trả về một string là *'Possible'* hoặc *'Impossible'* tương ứng với kết quả tìm được.  \n",
    "**Ví dụ**:\n",
    "- Input: <code>[[1, 4], [2, 3]]</code>\n",
    "- Output: <code>'Impossible'</code>"
   ]
  },
  {
   "cell_type": "code",
   "execution_count": 5,
   "metadata": {},
   "outputs": [],
   "source": [
    "def organizingContainers(containers):\n",
    "    \n",
    "    # YOUR CODE HERE\n",
    "    \n",
    "    return result  # 'Possible' or 'Impossible'"
   ]
  },
  {
   "cell_type": "markdown",
   "metadata": {},
   "source": [
    "## Bài 4. Mark và Đồ Chơi\n",
    "\n",
    "Mark đang đi mua đồ chơi cho con của anh. Trên kệ, các đồ chơi được trưng bày với nhiều nhãn giá khác nhau. Mark chỉ mang theo một số tiền nhất định và muốn mua nhiều đồ chơi nhất có thể.\n",
    "\n",
    "**Yêu cầu**: Cho một danh sách giá của từng món đồ chơi và số tiền Mark mang theo, hãy xác định số lượng đồ chơi nhiều nhất mà Mark có thể mua. Chú ý Mark chỉ mua mỗi món đồ chơi một lần.  \n",
    "\n",
    "**Input**: Một danh sách giá dưới dạng list chứa các số nguyên và một số nguyên *1 ≤ k ≤ 10<sup>9</sup>* là số tiền Mark mang theo. Danh sách chứa *1 ≤ n ≤ 10<sup>5</sup>* phần tử, mỗi phần tử có giá trị trong đoạn _[1, 10<sup>9</sup>]_.  \n",
    "**Output**: Một số nguyên là số lượng đồ chơi nhiều nhất mà Mark có thể mua.  \n",
    "**Ví dụ**:\n",
    "- Input: <code>[1, 12, 5, 111, 200, 1000, 10]</code>, <code>50</code>\n",
    "- Output: <code>4</code>\n",
    "- Giải thích: Với 50 đơn vị tiền, Mark có thể mua tối đa 4 món đồ chơi tương ứng với giá: [1, 12, 5, 10].  "
   ]
  },
  {
   "cell_type": "code",
   "execution_count": 6,
   "metadata": {},
   "outputs": [],
   "source": [
    "def maximumToys(prices, k):\n",
    "    \n",
    "    # YOUR CODE HERE\n",
    "    \n",
    "    return count  # int"
   ]
  },
  {
   "cell_type": "markdown",
   "metadata": {},
   "source": [
    "## Bài 5. Tổng Lũy Thừa\n",
    "\n",
    "**Yêu cầu**: Tìm số cách để biểu diễn một số nguyên *X* dưới dạng tổng các lũy thừa bậc *N* của các số tự nhiên không trùng nhau.  \n",
    "\n",
    "**Ví dụ**: Với *X = 13* và *N = 2*. Ta cần tìm tất cả tổ hợp số tự nhiên sao cho tổng bình phương của các số hạng bằng 13.  \n",
    "Tổ hợp duy nhất thỏa điều kiện là *2<sup>2</sup> + 3<sup>2</sup> = 13*.  \n",
    "\n",
    "**Input**: Một số nguyên *1 ≤ X ≤ 1000* và một số nguyên *2 ≤ N ≤ 10*.  \n",
    "**Output**: Một số nguyên là số tổ hợp tìm được thỏa điều kiện trên.  \n",
    "**Ví dụ**:  \n",
    "\n",
    "Ví dụ 1:\n",
    "- Input: <code>100</code>, <code>2</code>\n",
    "- Output: <code>3</code>\n",
    "- Giải thích: 100 = 10<sup>2</sup> = 6<sup>2</sup> + 8<sup>2</sup> = 1<sup>2</sup> + 3<sup>2</sup> + 4<sup>2</sup> + 5<sup>2</sup> + 7<sup>2</sup>\n",
    "\n",
    "Ví dụ 2:\n",
    "- Input: <code>100</code>, <code>3</code>\n",
    "- Output: <code>1</code>\n",
    "- Giải thích: 100 = 1<sup>3</sup> + 2<sup>3</sup> + 3<sup>3</sup> + 4<sup>3</sup>"
   ]
  },
  {
   "cell_type": "code",
   "execution_count": 7,
   "metadata": {},
   "outputs": [],
   "source": [
    "def powerSum(x, n):\n",
    "    \n",
    "    # YOUR CODE HERE\n",
    "    \n",
    "    return count  # int"
   ]
  },
  {
   "cell_type": "markdown",
   "metadata": {},
   "source": [
    "## Bài 6. Median\n",
    "\n",
    "Median của một dãy số là phần tử nằm chính giữa dãy đó sau khi sắp xếp: Số phần tử nằm bên trái median bằng số phần tử nằm bên phải median.  \n",
    "\n",
    "**Yêu cầu**: Cho một dãy số có số phần tử lẻ, hãy tìm median của dãy.  \n",
    "\n",
    "**Input**: Một dãy số dưới dạng list chứa *1 ≤ n ≤ 1000001* phần tử, *n* lẻ, mỗi phần tử có giá trị trong đoạn _[-10000, 10000]_.  \n",
    "**Output**: Một số nguyên là giá trị của median trong dãy số.  \n",
    "**Ví dụ**:  \n",
    "- Input: <code>[0, 1, 2, 4, 6, 5, 3]</code>\n",
    "- Output: <code>3</code>\n",
    "- Giải thích: Dãy số sau khi sắp xếp là _[0, 1, 2, 3, 4, 5, 6]_. Phần tử chính giữa có giá trị là *3*."
   ]
  },
  {
   "cell_type": "code",
   "execution_count": 8,
   "metadata": {},
   "outputs": [],
   "source": [
    "def findMedian(arr):\n",
    "    \n",
    "    # YOUR CODE HERE\n",
    "    \n",
    "    return median  # int"
   ]
  },
  {
   "cell_type": "markdown",
   "metadata": {},
   "source": [
    "## Bài 7. Đường và Thư Viện\n",
    "\n",
    "Hãy tính kinh phí tối thiểu để mọi người dân HackerLand có thể đến được thư viện. Cho *n* thành phố được đánh số từ *1* đến *n*. Hiện tại chưa thành phố nào có thư viện và các thành phố cũng không có đường để kết nối với nhau. Kế hoạch về các con đường hai chiều có thể xây dựng để nối giữa hai thành phố được lưu trong biến <code>cities</code>. Một người dân có thể đến được thư viện nếu:\n",
    "- Thành phố họ sống có thư viện, hoặc\n",
    "- Họ có thể đi đến thành phố có thư viện bằng các con đường đã xây\n",
    "\n",
    "**Ví dụ 1**: Một bản đồ các thành phố của HackerLand:\n",
    "![](./assets-final-test/lib1.png)\n",
    "Bản đồ có <code>n = 8</code> thành phố, các tuyến đường có thể xây dựng là <code>cities = [[1, 7], [1, 3], [1, 2], [2, 3], [5, 6], [6, 8]]</code>.  \n",
    "Cho thêm chi phí xây dựng một thư viện là <code>c_lib = 3</code> và chi phí xây dựng một con đường là <code>c_road = 2</code>.  \n",
    "\n",
    "Do một số thành phố không thể xây đường đến nhau, ta bắt buộc phải xây ít nhất 3 thư viện.  \n",
    "Giả sử ta xây ba thư viện ở các thành phố _[1, 4, 6]_ và xây tất cả các con đường. Ta nhận xét rằng có thể bỏ một trong ba con đường trong chu trình 1 🡲 2 🡲 3 🡲 1 mà vẫn thỏa mãn điều kiện đề bài. Ngoài ra, không thể bỏ con đường nào nữa.  \n",
    "\n",
    "Như vậy, ta xây dựng tổng cộng 3 thư viện và 5 con đường với tổng chi phí <code>3\\*c_lib + 5*c_road = 9 + 10 = 19</code>. Đây là chi phí nhỏ nhất có thể.\n",
    "\n",
    "**Ví dụ 2**: Cùng một bản đồ như trên, nhưng <code>c_lib = 2</code> và <code>c_road = 5</code> thì cách tiết kiệm chi phí nhất là xây một thư viện ở mỗi thành phố và không xây con đường nào. Chi phí tổng cộng là <code>8\\*c_lib = 16</code>.\n",
    "\n",
    "**Input**:\n",
    "- Một số nguyên *1 ≤ n ≤ 10<sup>5</sup>* là số thành phố.\n",
    "- Hai số nguyên *1 ≤ c_lib, c_road ≤ 10<sup>5</sup>* lần lượt là chi phí xây dựng một thư viện và một con đường.\n",
    "- Một list chứa *0 ≤ m ≤ 10<sup>5</sup>* tuyến đường có thể xây.\n",
    "\n",
    "**Output**: Một số nguyên là tổng chi phí nhỏ nhất để xây dựng đường và thư viện thỏa yêu cầu đề bài.  \n",
    "**Ví dụ**:\n",
    "- Input: <code>n = 3, c_lib = 2, c_road = 1, cities = [[1, 2], [3, 1], [2, 3]]</code>\n",
    "- Output: <code>4</code>\n",
    "- Giải thích: Ta xây một thư viện và 2 con đường:\n",
    "![](./assets-final-test/lib2.png)\n",
    "\n",
    "*Chú ý*: Cách biểu diễn đồ thị như trên được gọi là *Danh sách cạnh*. Ta có thể dùng hàm cho sẵn bên dưới để đưa một *danh sách cạnh* về dạng *danh sách kề* đã học."
   ]
  },
  {
   "cell_type": "code",
   "execution_count": 6,
   "metadata": {},
   "outputs": [
    {
     "data": {
      "text/plain": [
       "{1: [2, 3], 2: [1, 3], 3: [1, 2]}"
      ]
     },
     "execution_count": 6,
     "metadata": {},
     "output_type": "execute_result"
    }
   ],
   "source": [
    "# convert an edge list to adjacency list\n",
    "# params:\n",
    "# - n: number of vertices\n",
    "# - edges: list of edges\n",
    "def edgeList2AdjacencyList(n, edges):\n",
    "    adjList = {i: [] for i in range(1, n+1)}\n",
    "    for edge in edges:\n",
    "        adjList[edge[0]].append(edge[1])\n",
    "        adjList[edge[1]].append(edge[0])\n",
    "    return adjList\n",
    "\n",
    "\n",
    "# example\n",
    "edgeList2AdjacencyList(3, [[1, 2], [3, 1], [2, 3]])"
   ]
  },
  {
   "cell_type": "code",
   "execution_count": 10,
   "metadata": {},
   "outputs": [],
   "source": [
    "def roadsAndLibraries(n, c_lib, c_road, cities):\n",
    "    \n",
    "    # YOUR CODE HERE\n",
    "    \n",
    "    return min_cost  # int"
   ]
  },
  {
   "cell_type": "markdown",
   "metadata": {},
   "source": [
    "## Bài 8. Sherlock và Chuỗi Hợp Lệ\n",
    "\n",
    "Sherlock coi một chuỗi kí tự là hợp lệ nếu mọi chữ cái trong chuỗi có số lần xuất hiện bằng nhau. Chuỗi cũng hợp lệ nếu ta có thể xóa đúng một chữ cái tại đúng một vị trí trong chuỗi sao cho các chữ cái trong chuỗi thu được có số lần xuất hiện bằng nhau.\n",
    "\n",
    "**Yêu cầu**: Cho một chuỗi kí tự chỉ bao gồm các chữ cái viết thường từ *a* đến *z*, hãy kiểm tra chuỗi có hợp lệ hay không.   \n",
    "\n",
    "**Input**: Một chuỗi kí tự có kích thước *1 ≤ n ≤ 10<sup>5</sup>*.  \n",
    "**Output**: Trả về *'YES'* nếu chuỗi hợp lệ, ngược lại trả về *'NO'*.  \n",
    "**Ví dụ**: \n",
    "\n",
    "Ví dụ 1:\n",
    "- Input: <code>'abcdefghhgfedecba'</code>\n",
    "- Output: <code>'YES'</code>\n",
    "- Giải thích: Mọi chữ cái đều xuất hiện 2 lần, riêng chữ *'e'* xuất hiện 3 lần. Ta có thể xóa một vị trí của *'e'* để *'e'* chỉ xuất hiện 2 lần như các chữ cái khác.\n",
    "\n",
    "Ví dụ 2:\n",
    "- Input: <code>'aabbcd'</code>\n",
    "- Output: <code>'NO'</code>"
   ]
  },
  {
   "cell_type": "code",
   "execution_count": 11,
   "metadata": {},
   "outputs": [],
   "source": [
    "def isValid(s):\n",
    "\n",
    "    # YOUR CODE HERE\n",
    "    \n",
    "    return result  # 'YES' or 'NO'"
   ]
  },
  {
   "cell_type": "markdown",
   "metadata": {},
   "source": [
    "## Bài 9. Đếm Thung Lũng\n",
    "\n",
    "Một nhà thám hiểm ghi lại mỗi bước đi trên hành trình. Mỗi bước được ghi lại là một bước đi lên (*U*) hoặc đi xuống (*D*). Nhà thám hiểm luôn bắt đầu và kết thúc chuyến hành trình tại mực nước biển, mỗi bước lên hoặc xuống làm thay đổi đúng một đơn vị độ cao. Ta định nghĩa:\n",
    "- Một dãy núi là một số bước liên tục trên mực nước biển, bắt đầu từ một bước đi lên từ mực nước biển và kết thúc bằng một bước đi xuống chạm mực nước biển.\n",
    "- Một thung lũng là một số bước liên tục dưới mực nước biển, bắt đầu từ một bước đi xuống từ mực nước biển và kết thúc bằng một bước đi lên đến mực nước biển.\n",
    "\n",
    "**Yêu cầu**: Cho một chuỗi kí tự chỉ bao gồm hai chữ cái *U* hoặc *D* thể hiện các bước đi, hãy đếm số thung lũng mà nhà thám đã đi qua.  \n",
    "\n",
    "**Input**: Một số nguyên *2 ≤ n ≤ 10<sup>6</sup>* là số bước đi và một chuỗi kí tự có kích thước *n* thể hiện hành trình của nhà thám hiểm.  \n",
    "**Output**: Trả về một số nguyên là số thung lũng đếm được trên hành trình.  \n",
    "**Ví dụ**: \n",
    "- Input: <code>8, 'UDDDUDUU'</code>\n",
    "- Output: <code>1</code>\n",
    "- Giải thích: Ta kí hiệu _ là mực nước biển, / là bước lên và \\ là bước xuống. Hành trình trên có thể được tạm vẽ như sau:\n",
    "<pre>\n",
    "__/\\&nbsp;&nbsp;&nbsp;&nbsp;&nbsp;&nbsp;__\n",
    "&nbsp;&nbsp;&nbsp;&nbsp;\\&nbsp;&nbsp;&nbsp;&nbsp;/\n",
    "&nbsp;&nbsp;&nbsp;&nbsp;&nbsp;\\/\\/\n",
    "</pre>\n",
    "  Có một thung lũng trong hành trình."
   ]
  },
  {
   "cell_type": "markdown",
   "metadata": {},
   "source": [
    "**Thuật toán**:\n",
    "\n",
    "Nhận xét:\n",
    "- Do chuyến thám hiểm luôn bắt đầu và kết thúc tại mực nước biển, ta đảm bảo mọi dãy núi và thung lũng đều được đi trọn vẹn.  \n",
    "- Do các bước đi chỉ có thể là lên hoặc xuống, nhà thám hiểm bắt buộc phải thoát ra khỏi thung lũng hiện tại trước khi đến thung lũng khác.\n",
    "\n",
    "Như vậy, số thung lũng bằng số lần nhà thám hiểm bước vào thung lũng. Điều kiện để bước vào thung lũng là một bước xuống (*D*) tại độ cao bằng 0. Ta dùng một biến *height* để lưu độ cao ở mỗi bước trên hành trình."
   ]
  },
  {
   "cell_type": "code",
   "execution_count": 12,
   "metadata": {},
   "outputs": [],
   "source": [
    "def countingValleys(n, s):\n",
    "    \n",
    "    # YOUR CODE HERE\n",
    "    \n",
    "    return count  # int"
   ]
  },
  {
   "cell_type": "markdown",
   "metadata": {},
   "source": [
    "# END"
   ]
  }
 ],
 "metadata": {
  "kernelspec": {
   "display_name": "Python 3",
   "language": "python",
   "name": "python3"
  },
  "language_info": {
   "codemirror_mode": {
    "name": "ipython",
    "version": 3
   },
   "file_extension": ".py",
   "mimetype": "text/x-python",
   "name": "python",
   "nbconvert_exporter": "python",
   "pygments_lexer": "ipython3",
   "version": "3.8.3"
  }
 },
 "nbformat": 4,
 "nbformat_minor": 4
}
